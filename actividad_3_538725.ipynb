{
  "nbformat": 4,
  "nbformat_minor": 0,
  "metadata": {
    "colab": {
      "provenance": [],
      "authorship_tag": "ABX9TyM3o06lcie8F5hJR4vnYF0N",
      "include_colab_link": true
    },
    "kernelspec": {
      "name": "python3",
      "display_name": "Python 3"
    },
    "language_info": {
      "name": "python"
    }
  },
  "cells": [
    {
      "cell_type": "markdown",
      "metadata": {
        "id": "view-in-github",
        "colab_type": "text"
      },
      "source": [
        "<a href=\"https://colab.research.google.com/github/jesusrodinho/Prog_202410_Eval3/blob/main/actividad_3_538725.ipynb\" target=\"_parent\"><img src=\"https://colab.research.google.com/assets/colab-badge.svg\" alt=\"Open In Colab\"/></a>"
      ]
    },
    {
      "cell_type": "markdown",
      "source": [
        "#**Actividad Evaluativa 3 : Ciclos y Condicionales**\n",
        "###**Fecha :** 22 de marzo de 2024\n",
        "###**Presentado por :** Jesús David Rodiño Villera\n",
        "###**Email:** jesus.rodinov@upb.edu.co"
      ],
      "metadata": {
        "id": "v6ozTNm_drm1"
      }
    },
    {
      "cell_type": "code",
      "source": [
        "import math\n",
        "print(\"Bienvenido al Programa Filtrado de Señales\")\n",
        "print(\"-\"*50)\n",
        "f = int(input(\"Ingrese la frecuencia de la señal: \"))\n",
        "MEDIA = 1000\n",
        "DESVIO = 300\n",
        "UMBRAL = 0.3\n",
        "#Validación de la frecuencia\n",
        "if f <= 0:\n",
        "\tprint(\"ERROR: La frecuencia de la señal debe ser un número real mayor que cero.\")\n",
        "else:\n",
        "\tp_total = 0\n",
        "#Cálculo de la probabilidad acumulada utilizando la función de densidad de probabilidad\n",
        "for i in range(1, f+1):\n",
        "    r = (1 / (DESVIO * math.sqrt(2 * math.pi))) * math.exp(-0.5 * ((f - MEDIA) / DESVIO) ** 2)\n",
        "    p_total = p_total + r\n",
        "#Se muestra el resultado\n",
        "if p_total > UMBRAL:\n",
        "\tprint(\"La señal pasa el filtro.\")\n",
        "else:\n",
        "\tprint(\"La señal es bloqueada por el filtro.\")"
      ],
      "metadata": {
        "colab": {
          "base_uri": "https://localhost:8080/"
        },
        "id": "B2j-jZZifDh9",
        "outputId": "5ef098bc-3657-4bf8-b736-0f09e4c5ecd1"
      },
      "execution_count": 70,
      "outputs": [
        {
          "output_type": "stream",
          "name": "stdout",
          "text": [
            "Bienvenido al Programa Filtrado de Señales\n",
            "--------------------------------------------------\n",
            "Ingrese la frecuencia de la señal: 1000\n",
            "La señal pasa el filtro.\n"
          ]
        }
      ]
    }
  ]
}